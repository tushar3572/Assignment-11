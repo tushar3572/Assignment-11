{
 "cells": [
  {
   "cell_type": "code",
   "execution_count": null,
   "id": "3f42c3f5-8a2b-4c05-b154-20df1d487aa7",
   "metadata": {},
   "outputs": [],
   "source": [
    "    #Answer: 1\n",
    "    \n",
    "Multiprocessing in Python is a built-in package that allows the system to run multiple processes simultaneously. \n",
    "It will enable the breaking of applications into smaller threads that can run independently.    \n",
    "\n",
    "Multiprocessing is useful for CPU-bound processes, such as computationally heavy tasks since it will benefit from having multiple processors;\n",
    "similar to how multicore computers work faster than computers with a single core."
   ]
  },
  {
   "cell_type": "code",
   "execution_count": null,
   "id": "92443591-b4ac-4a84-84b4-cb76a5ac1b4b",
   "metadata": {},
   "outputs": [],
   "source": [
    "    #Answer: 2\n",
    "    \n",
    "By formal definition, multithreading refers to the ability of a processor to execute multiple threads concurrently,\n",
    "where each thread runs a process. \n",
    "\n",
    "Whereas multiprocessing refers to the ability of a system to run multiple processors in parallel, \n",
    "where each processor can run one or more threads.   "
   ]
  },
  {
   "cell_type": "code",
   "execution_count": 4,
   "id": "8240ece2-5548-440a-97c2-dc6682c83e99",
   "metadata": {},
   "outputs": [
    {
     "name": "stdout",
     "output_type": "stream",
     "text": [
      "Worker process\n",
      "Main process finished\n"
     ]
    }
   ],
   "source": [
    "    #Answer: 3\n",
    "    \n",
    "import multiprocessing\n",
    "\n",
    "# Function to be executed in a separate process\n",
    "def worker():\n",
    "     print(\"Worker process\")\n",
    "\n",
    "# Main code\n",
    "if __name__ == '__main__':\n",
    "     process = multiprocessing.Process(target=worker)\n",
    "    process.start()\n",
    "    process.join()\n",
    "\n",
    "    print(\"Main process finished\")\n",
    "    "
   ]
  },
  {
   "cell_type": "code",
   "execution_count": null,
   "id": "a618d1ad-4a3c-4d41-9817-b7ffe0b3c497",
   "metadata": {},
   "outputs": [],
   "source": [
    "    #Answer: 4\n",
    "    \n",
    "Python multiprocessing Pool can be used for parallel execution of a function across multiple input values, \n",
    "distributing the input data across processes (data parallelism). \n",
    "\n",
    "Using Pool. The Pool class in multiprocessing can handle an enormous number of processes. \n",
    "It allows you to run multiple jobs per process (due to its ability to queue the jobs).\n",
    "The memory is allocated only to the executing processes, unlike the Process class, which allocates memory to all the processes"
   ]
  },
  {
   "cell_type": "code",
   "execution_count": 7,
   "id": "2be3b74d-6841-490d-9d08-1d249f97438e",
   "metadata": {},
   "outputs": [
    {
     "name": "stdout",
     "output_type": "stream",
     "text": [
      "Results: [1, 4, 9, 16, 25]\n"
     ]
    }
   ],
   "source": [
    "    #Answer: 5\n",
    "    \n",
    "import multiprocessing\n",
    "\n",
    "# Function to be executed by worker processes\n",
    "def worker(num):\n",
    "      return num * num\n",
    "\n",
    "# Main code\n",
    "if __name__ == '__main__':\n",
    "    # Create a Pool of worker processes\n",
    "      with multiprocessing.Pool(processes=4) as pool:\n",
    "        # Input values for the worker function\n",
    "        inputs = [1, 2, 3, 4, 5]\n",
    "\n",
    "        # Map the worker function to the inputs using the Pool\n",
    "        results = pool.map(worker, inputs)\n",
    "\n",
    "    # Print the results\n",
    "    print(\"Results:\", results)\n",
    "   "
   ]
  },
  {
   "cell_type": "code",
   "execution_count": 10,
   "id": "45732c85-8e7d-4285-90f7-8c04c0c179ce",
   "metadata": {},
   "outputs": [
    {
     "name": "stdout",
     "output_type": "stream",
     "text": [
      "Process 0 Process   2printsprints  10Process\n",
      "1 \n",
      "prints 2Process\n",
      " 3 prints 3\n",
      "Main process finished\n"
     ]
    }
   ],
   "source": [
    "    #Answer: 6\n",
    "    \n",
    "import multiprocessing\n",
    "\n",
    "# Function to be executed by worker processes\n",
    "def worker(number):\n",
    "      print(\"Process\", number, \"prints\", number)\n",
    "\n",
    "# Main code\n",
    "if __name__ == '__main__':\n",
    "    # Create a list of processes\n",
    "      processes = []\n",
    "\n",
    "    # Create 4 processes and assign a different number to each process\n",
    "    for i in range(4):\n",
    "        process = multiprocessing.Process(target=worker, args=(i,))\n",
    "        processes.append(process)\n",
    "        process.start()\n",
    "\n",
    "    # Wait for all processes to finish\n",
    "    for process in processes:\n",
    "        process.join()\n",
    "\n",
    "    print(\"Main process finished\")\n",
    "   "
   ]
  },
  {
   "cell_type": "code",
   "execution_count": null,
   "id": "dbe22e16-a68d-4dcc-8408-b959963b08c3",
   "metadata": {},
   "outputs": [],
   "source": []
  }
 ],
 "metadata": {
  "kernelspec": {
   "display_name": "Python 3 (ipykernel)",
   "language": "python",
   "name": "python3"
  },
  "language_info": {
   "codemirror_mode": {
    "name": "ipython",
    "version": 3
   },
   "file_extension": ".py",
   "mimetype": "text/x-python",
   "name": "python",
   "nbconvert_exporter": "python",
   "pygments_lexer": "ipython3",
   "version": "3.10.8"
  }
 },
 "nbformat": 4,
 "nbformat_minor": 5
}
